{
 "cells": [
  {
   "cell_type": "markdown",
   "metadata": {},
   "source": [
    "<div style=\"text-align: center; background-color: cream;\">\n",
    "  <h1 style=\"color: #4B0082, font-family: 'Merriweather', serif;\">Project: Investigation of a Collection of 10,000 Movies in The Movie Database (TMDB)</h1>\n",
    "    <br>\n",
    "    <b>By Buhari Shehu (The Datavestigator)</b>\n",
    "</div>"
   ]
  },
  {
   "cell_type": "markdown",
   "metadata": {},
   "source": [
    "<img src=\"movie.png\" alt=\"movies pic\" style=\"max-width: 100%;\">\n",
    "<br>\n",
    "<center>Photo by Moview</center>\n",
    "\n",
    "\n",
    "## Table of Contents\n",
    "<ul>\n",
    "<li><a href=\"#intro\">Introduction</a></li>\n",
    "<li><a href=\"#wrangling\">Data Wrangling</a></li>\n",
    "<li><a href=\"#eda\">Exploratory Data Analysis</a></li>\n",
    "<li><a href=\"#conclusions\">Conclusions</a></li>\n",
    "</ul>"
   ]
  },
  {
   "cell_type": "markdown",
   "metadata": {},
   "source": [
    "<a id='intro'></a>\n",
    "## Introduction\n",
    "The movie industry is a thriving billion-dollar sector that consistently generates substantial revenue for its stakeholders. Despite debates suggesting its decline, it is essential to examine the industry objectively. To address any concerns and provide valuable insights to prospective investors, this project delves into a comprehensive analysis of 55 years' worth of movie metadata from TMDb. By meticulously studying this extensive dataset, we aim to uncover trends and patterns that shed light on the industry's revenue generation potential. The project will investigate the *`Annual Revenue Growth`* of the movie industry and the relationships between *`popularity, runtime, average votes and revenue generation`*. The outcomes of this analysis will serve as a valuable guide for investors, empowering them to make informed decisions about investing in the movie industry.\n",
    "\n",
    "### Dataset Description\n",
    "The dataset investigated in this project is a collection of features of about 10,000 movies in The Movie Database (TMDb). [1](https://docs.google.com/document/d/e/2PACX-1vTlVmknRRnfy_4eTrjw5hYGaiQim5ctr9naaRd4V9du2B5bxpd8FEH3KtDgp8qVekw7Cj1GLk1IXdZi/pub?embedded=True) TMDb is built by community and for community since 2008 and there are currently more than 400,000 developers using the metadata. [2](https://www.themoviedb.org/about)\n",
    "The database consists of the following features:\n",
    "- `id`: this is the TMDb unique movie identifier\n",
    "- `imdb_id`: this is the iMDb unique movie identifier\n",
    "- `popularity`: a metric that measures the acceptance of a movie by the viewers\n",
    "- `budge`t: estimate of the total amount of money earmarked for the movie\n",
    "- `revenue`: the total amount of money realized from selling the movie\n",
    "- `original_title`: the movie title\n",
    "- `cast`: list of actors in the movie [3](https://dictionary.cambridge.org/dictionary/english/cast#:~:text=cast%20noun%20%28ACTORS%29%20B2%20%5B%20C%2C%20%2B%20sing%2Fpl,actors%20who%20were%20not%20playing%20the%20main%20parts%29.)\n",
    "- `homepage`: the movie homepage\n",
    "- `director`: the movie director\n",
    "- `tagline`: a catchphrase for the movie advert\n",
    "- `keywords`: words used in indexing and ranking movies in search results\n",
    "- `overview`: high-level summary of the movie story line\n",
    "- `runtime`: movie duration [4](https://www.merriam-webster.com/dictionary/running%20time#:~:text=Definition%20of%20running%20time%20%3A%20the%20duration%20of,recording%20Examples%20of%20running%20time%20in%20a%20Sentence)\n",
    "- `genres`: movie category [5](https://www.studiobinder.com/blog/movie-genres-list/)\n",
    "- `production_companies`: the company that produced the movie\n",
    "- `release_date`: movie release date\n",
    "- `vote_count`: number of votes\n",
    "- `vote_average`: average votes\n",
    "- `release_year`: movie release year\n",
    "- `budget_adj`: adjusted budget taking inflation into account\n",
    "- `revenue_adj`: adjusted revenue taking inflation into account\n",
    "\n",
    "### Importing Dependencies"
   ]
  },
  {
   "cell_type": "code",
   "execution_count": 2,
   "metadata": {},
   "outputs": [],
   "source": [
    "# importing the necessary packages\n",
    "import numpy as np\n",
    "import pandas as pd\n",
    "import datetime\n",
    "import matplotlib.pyplot as plt\n",
    "import seaborn as sns\n",
    "\n",
    "%matplotlib inline"
   ]
  },
  {
   "cell_type": "code",
   "execution_count": null,
   "metadata": {},
   "outputs": [],
   "source": [
    "# Upgrade pandas to use dataframe.explode() function. \n",
    "!pip install --upgrade pandas==0.25.0"
   ]
  },
  {
   "cell_type": "markdown",
   "metadata": {},
   "source": [
    "<a id='wrangling'></a>\n",
    "## Data Wrangling\n",
    "In this section, we will carefully examine the dataset to identify and resolve errors, inconsistencies, missing values, and duplicate entries. Our aim is to ensure that the dataset is accurate, consistent, and complete, making it suitable for analysis."
   ]
  },
  {
   "cell_type": "code",
   "execution_count": 3,
   "metadata": {},
   "outputs": [],
   "source": [
    "# loading the data\n",
    "movies_df = pd.read_csv('tmdb-movies.csv')"
   ]
  },
  {
   "cell_type": "code",
   "execution_count": 4,
   "metadata": {},
   "outputs": [
    {
     "data": {
      "text/html": [
       "<div>\n",
       "<style scoped>\n",
       "    .dataframe tbody tr th:only-of-type {\n",
       "        vertical-align: middle;\n",
       "    }\n",
       "\n",
       "    .dataframe tbody tr th {\n",
       "        vertical-align: top;\n",
       "    }\n",
       "\n",
       "    .dataframe thead th {\n",
       "        text-align: right;\n",
       "    }\n",
       "</style>\n",
       "<table border=\"1\" class=\"dataframe\">\n",
       "  <thead>\n",
       "    <tr style=\"text-align: right;\">\n",
       "      <th></th>\n",
       "      <th>id</th>\n",
       "      <th>imdb_id</th>\n",
       "      <th>popularity</th>\n",
       "      <th>budget</th>\n",
       "      <th>revenue</th>\n",
       "      <th>original_title</th>\n",
       "      <th>cast</th>\n",
       "      <th>homepage</th>\n",
       "      <th>director</th>\n",
       "      <th>tagline</th>\n",
       "      <th>...</th>\n",
       "      <th>overview</th>\n",
       "      <th>runtime</th>\n",
       "      <th>genres</th>\n",
       "      <th>production_companies</th>\n",
       "      <th>release_date</th>\n",
       "      <th>vote_count</th>\n",
       "      <th>vote_average</th>\n",
       "      <th>release_year</th>\n",
       "      <th>budget_adj</th>\n",
       "      <th>revenue_adj</th>\n",
       "    </tr>\n",
       "  </thead>\n",
       "  <tbody>\n",
       "    <tr>\n",
       "      <th>0</th>\n",
       "      <td>135397</td>\n",
       "      <td>tt0369610</td>\n",
       "      <td>32.985763</td>\n",
       "      <td>150000000</td>\n",
       "      <td>1513528810</td>\n",
       "      <td>Jurassic World</td>\n",
       "      <td>Chris Pratt|Bryce Dallas Howard|Irrfan Khan|Vi...</td>\n",
       "      <td>http://www.jurassicworld.com/</td>\n",
       "      <td>Colin Trevorrow</td>\n",
       "      <td>The park is open.</td>\n",
       "      <td>...</td>\n",
       "      <td>Twenty-two years after the events of Jurassic ...</td>\n",
       "      <td>124</td>\n",
       "      <td>Action|Adventure|Science Fiction|Thriller</td>\n",
       "      <td>Universal Studios|Amblin Entertainment|Legenda...</td>\n",
       "      <td>6/9/15</td>\n",
       "      <td>5562</td>\n",
       "      <td>6.5</td>\n",
       "      <td>2015</td>\n",
       "      <td>1.379999e+08</td>\n",
       "      <td>1.392446e+09</td>\n",
       "    </tr>\n",
       "    <tr>\n",
       "      <th>1</th>\n",
       "      <td>76341</td>\n",
       "      <td>tt1392190</td>\n",
       "      <td>28.419936</td>\n",
       "      <td>150000000</td>\n",
       "      <td>378436354</td>\n",
       "      <td>Mad Max: Fury Road</td>\n",
       "      <td>Tom Hardy|Charlize Theron|Hugh Keays-Byrne|Nic...</td>\n",
       "      <td>http://www.madmaxmovie.com/</td>\n",
       "      <td>George Miller</td>\n",
       "      <td>What a Lovely Day.</td>\n",
       "      <td>...</td>\n",
       "      <td>An apocalyptic story set in the furthest reach...</td>\n",
       "      <td>120</td>\n",
       "      <td>Action|Adventure|Science Fiction|Thriller</td>\n",
       "      <td>Village Roadshow Pictures|Kennedy Miller Produ...</td>\n",
       "      <td>5/13/15</td>\n",
       "      <td>6185</td>\n",
       "      <td>7.1</td>\n",
       "      <td>2015</td>\n",
       "      <td>1.379999e+08</td>\n",
       "      <td>3.481613e+08</td>\n",
       "    </tr>\n",
       "    <tr>\n",
       "      <th>2</th>\n",
       "      <td>262500</td>\n",
       "      <td>tt2908446</td>\n",
       "      <td>13.112507</td>\n",
       "      <td>110000000</td>\n",
       "      <td>295238201</td>\n",
       "      <td>Insurgent</td>\n",
       "      <td>Shailene Woodley|Theo James|Kate Winslet|Ansel...</td>\n",
       "      <td>http://www.thedivergentseries.movie/#insurgent</td>\n",
       "      <td>Robert Schwentke</td>\n",
       "      <td>One Choice Can Destroy You</td>\n",
       "      <td>...</td>\n",
       "      <td>Beatrice Prior must confront her inner demons ...</td>\n",
       "      <td>119</td>\n",
       "      <td>Adventure|Science Fiction|Thriller</td>\n",
       "      <td>Summit Entertainment|Mandeville Films|Red Wago...</td>\n",
       "      <td>3/18/15</td>\n",
       "      <td>2480</td>\n",
       "      <td>6.3</td>\n",
       "      <td>2015</td>\n",
       "      <td>1.012000e+08</td>\n",
       "      <td>2.716190e+08</td>\n",
       "    </tr>\n",
       "    <tr>\n",
       "      <th>3</th>\n",
       "      <td>140607</td>\n",
       "      <td>tt2488496</td>\n",
       "      <td>11.173104</td>\n",
       "      <td>200000000</td>\n",
       "      <td>2068178225</td>\n",
       "      <td>Star Wars: The Force Awakens</td>\n",
       "      <td>Harrison Ford|Mark Hamill|Carrie Fisher|Adam D...</td>\n",
       "      <td>http://www.starwars.com/films/star-wars-episod...</td>\n",
       "      <td>J.J. Abrams</td>\n",
       "      <td>Every generation has a story.</td>\n",
       "      <td>...</td>\n",
       "      <td>Thirty years after defeating the Galactic Empi...</td>\n",
       "      <td>136</td>\n",
       "      <td>Action|Adventure|Science Fiction|Fantasy</td>\n",
       "      <td>Lucasfilm|Truenorth Productions|Bad Robot</td>\n",
       "      <td>12/15/15</td>\n",
       "      <td>5292</td>\n",
       "      <td>7.5</td>\n",
       "      <td>2015</td>\n",
       "      <td>1.839999e+08</td>\n",
       "      <td>1.902723e+09</td>\n",
       "    </tr>\n",
       "    <tr>\n",
       "      <th>4</th>\n",
       "      <td>168259</td>\n",
       "      <td>tt2820852</td>\n",
       "      <td>9.335014</td>\n",
       "      <td>190000000</td>\n",
       "      <td>1506249360</td>\n",
       "      <td>Furious 7</td>\n",
       "      <td>Vin Diesel|Paul Walker|Jason Statham|Michelle ...</td>\n",
       "      <td>http://www.furious7.com/</td>\n",
       "      <td>James Wan</td>\n",
       "      <td>Vengeance Hits Home</td>\n",
       "      <td>...</td>\n",
       "      <td>Deckard Shaw seeks revenge against Dominic Tor...</td>\n",
       "      <td>137</td>\n",
       "      <td>Action|Crime|Thriller</td>\n",
       "      <td>Universal Pictures|Original Film|Media Rights ...</td>\n",
       "      <td>4/1/15</td>\n",
       "      <td>2947</td>\n",
       "      <td>7.3</td>\n",
       "      <td>2015</td>\n",
       "      <td>1.747999e+08</td>\n",
       "      <td>1.385749e+09</td>\n",
       "    </tr>\n",
       "  </tbody>\n",
       "</table>\n",
       "<p>5 rows × 21 columns</p>\n",
       "</div>"
      ],
      "text/plain": [
       "       id    imdb_id  popularity     budget     revenue  \\\n",
       "0  135397  tt0369610   32.985763  150000000  1513528810   \n",
       "1   76341  tt1392190   28.419936  150000000   378436354   \n",
       "2  262500  tt2908446   13.112507  110000000   295238201   \n",
       "3  140607  tt2488496   11.173104  200000000  2068178225   \n",
       "4  168259  tt2820852    9.335014  190000000  1506249360   \n",
       "\n",
       "                 original_title  \\\n",
       "0                Jurassic World   \n",
       "1            Mad Max: Fury Road   \n",
       "2                     Insurgent   \n",
       "3  Star Wars: The Force Awakens   \n",
       "4                     Furious 7   \n",
       "\n",
       "                                                cast  \\\n",
       "0  Chris Pratt|Bryce Dallas Howard|Irrfan Khan|Vi...   \n",
       "1  Tom Hardy|Charlize Theron|Hugh Keays-Byrne|Nic...   \n",
       "2  Shailene Woodley|Theo James|Kate Winslet|Ansel...   \n",
       "3  Harrison Ford|Mark Hamill|Carrie Fisher|Adam D...   \n",
       "4  Vin Diesel|Paul Walker|Jason Statham|Michelle ...   \n",
       "\n",
       "                                            homepage          director  \\\n",
       "0                      http://www.jurassicworld.com/   Colin Trevorrow   \n",
       "1                        http://www.madmaxmovie.com/     George Miller   \n",
       "2     http://www.thedivergentseries.movie/#insurgent  Robert Schwentke   \n",
       "3  http://www.starwars.com/films/star-wars-episod...       J.J. Abrams   \n",
       "4                           http://www.furious7.com/         James Wan   \n",
       "\n",
       "                         tagline  ...  \\\n",
       "0              The park is open.  ...   \n",
       "1             What a Lovely Day.  ...   \n",
       "2     One Choice Can Destroy You  ...   \n",
       "3  Every generation has a story.  ...   \n",
       "4            Vengeance Hits Home  ...   \n",
       "\n",
       "                                            overview runtime  \\\n",
       "0  Twenty-two years after the events of Jurassic ...     124   \n",
       "1  An apocalyptic story set in the furthest reach...     120   \n",
       "2  Beatrice Prior must confront her inner demons ...     119   \n",
       "3  Thirty years after defeating the Galactic Empi...     136   \n",
       "4  Deckard Shaw seeks revenge against Dominic Tor...     137   \n",
       "\n",
       "                                      genres  \\\n",
       "0  Action|Adventure|Science Fiction|Thriller   \n",
       "1  Action|Adventure|Science Fiction|Thriller   \n",
       "2         Adventure|Science Fiction|Thriller   \n",
       "3   Action|Adventure|Science Fiction|Fantasy   \n",
       "4                      Action|Crime|Thriller   \n",
       "\n",
       "                                production_companies release_date vote_count  \\\n",
       "0  Universal Studios|Amblin Entertainment|Legenda...       6/9/15       5562   \n",
       "1  Village Roadshow Pictures|Kennedy Miller Produ...      5/13/15       6185   \n",
       "2  Summit Entertainment|Mandeville Films|Red Wago...      3/18/15       2480   \n",
       "3          Lucasfilm|Truenorth Productions|Bad Robot     12/15/15       5292   \n",
       "4  Universal Pictures|Original Film|Media Rights ...       4/1/15       2947   \n",
       "\n",
       "   vote_average  release_year    budget_adj   revenue_adj  \n",
       "0           6.5          2015  1.379999e+08  1.392446e+09  \n",
       "1           7.1          2015  1.379999e+08  3.481613e+08  \n",
       "2           6.3          2015  1.012000e+08  2.716190e+08  \n",
       "3           7.5          2015  1.839999e+08  1.902723e+09  \n",
       "4           7.3          2015  1.747999e+08  1.385749e+09  \n",
       "\n",
       "[5 rows x 21 columns]"
      ]
     },
     "execution_count": 4,
     "metadata": {},
     "output_type": "execute_result"
    }
   ],
   "source": [
    "# first five records in the dataset\n",
    "movies_df.head()"
   ]
  },
  {
   "cell_type": "markdown",
   "metadata": {},
   "source": [
    "From this we can observe that:\n",
    "- the dataset consists of 21 features\n",
    "- a movie can fall under more than one genres \n",
    "- and two or more production companies do collaborate to produce movies.\n",
    "\n",
    "**Let's check the number of records in the dataset.**"
   ]
  },
  {
   "cell_type": "code",
   "execution_count": 4,
   "metadata": {},
   "outputs": [
    {
     "data": {
      "text/plain": [
       "(10866, 21)"
      ]
     },
     "execution_count": 4,
     "metadata": {},
     "output_type": "execute_result"
    }
   ],
   "source": [
    "# checking the size of the dataset\n",
    "movies_df.shape"
   ]
  },
  {
   "cell_type": "markdown",
   "metadata": {},
   "source": [
    "We can see that there are 10866 entries in the database. \n",
    "\n",
    "**Let's investigate the metadata of the features.**"
   ]
  },
  {
   "cell_type": "code",
   "execution_count": 5,
   "metadata": {},
   "outputs": [
    {
     "name": "stdout",
     "output_type": "stream",
     "text": [
      "<class 'pandas.core.frame.DataFrame'>\n",
      "RangeIndex: 10866 entries, 0 to 10865\n",
      "Data columns (total 21 columns):\n",
      " #   Column                Non-Null Count  Dtype  \n",
      "---  ------                --------------  -----  \n",
      " 0   id                    10866 non-null  int64  \n",
      " 1   imdb_id               10856 non-null  object \n",
      " 2   popularity            10866 non-null  float64\n",
      " 3   budget                10866 non-null  int64  \n",
      " 4   revenue               10866 non-null  int64  \n",
      " 5   original_title        10866 non-null  object \n",
      " 6   cast                  10790 non-null  object \n",
      " 7   homepage              2936 non-null   object \n",
      " 8   director              10822 non-null  object \n",
      " 9   tagline               8042 non-null   object \n",
      " 10  keywords              9373 non-null   object \n",
      " 11  overview              10862 non-null  object \n",
      " 12  runtime               10866 non-null  int64  \n",
      " 13  genres                10843 non-null  object \n",
      " 14  production_companies  9836 non-null   object \n",
      " 15  release_date          10866 non-null  object \n",
      " 16  vote_count            10866 non-null  int64  \n",
      " 17  vote_average          10866 non-null  float64\n",
      " 18  release_year          10866 non-null  int64  \n",
      " 19  budget_adj            10866 non-null  float64\n",
      " 20  revenue_adj           10866 non-null  float64\n",
      "dtypes: float64(4), int64(6), object(11)\n",
      "memory usage: 1.7+ MB\n"
     ]
    }
   ],
   "source": [
    "movies_df.info()"
   ]
  },
  {
   "cell_type": "markdown",
   "metadata": {},
   "source": [
    "We can see from the above that we have:\n",
    "- three data types: ***float64, int64, object***\n",
    "- the features: ***imdb_id, cast, homepage, director, tagline, keywords, overview, genres, and production_companies*** all have missing values.\n",
    "\n",
    "**Let's check the summary statics of the numerical features of the dataset.**"
   ]
  },
  {
   "cell_type": "code",
   "execution_count": 6,
   "metadata": {},
   "outputs": [
    {
     "data": {
      "text/html": [
       "<div>\n",
       "<style scoped>\n",
       "    .dataframe tbody tr th:only-of-type {\n",
       "        vertical-align: middle;\n",
       "    }\n",
       "\n",
       "    .dataframe tbody tr th {\n",
       "        vertical-align: top;\n",
       "    }\n",
       "\n",
       "    .dataframe thead th {\n",
       "        text-align: right;\n",
       "    }\n",
       "</style>\n",
       "<table border=\"1\" class=\"dataframe\">\n",
       "  <thead>\n",
       "    <tr style=\"text-align: right;\">\n",
       "      <th></th>\n",
       "      <th>id</th>\n",
       "      <th>popularity</th>\n",
       "      <th>budget</th>\n",
       "      <th>revenue</th>\n",
       "      <th>runtime</th>\n",
       "      <th>vote_count</th>\n",
       "      <th>vote_average</th>\n",
       "      <th>release_year</th>\n",
       "      <th>budget_adj</th>\n",
       "      <th>revenue_adj</th>\n",
       "    </tr>\n",
       "  </thead>\n",
       "  <tbody>\n",
       "    <tr>\n",
       "      <th>count</th>\n",
       "      <td>10866.000000</td>\n",
       "      <td>10866.000000</td>\n",
       "      <td>1.086600e+04</td>\n",
       "      <td>1.086600e+04</td>\n",
       "      <td>10866.000000</td>\n",
       "      <td>10866.000000</td>\n",
       "      <td>10866.000000</td>\n",
       "      <td>10866.000000</td>\n",
       "      <td>1.086600e+04</td>\n",
       "      <td>1.086600e+04</td>\n",
       "    </tr>\n",
       "    <tr>\n",
       "      <th>mean</th>\n",
       "      <td>66064.177434</td>\n",
       "      <td>0.646441</td>\n",
       "      <td>1.462570e+07</td>\n",
       "      <td>3.982332e+07</td>\n",
       "      <td>102.070863</td>\n",
       "      <td>217.389748</td>\n",
       "      <td>5.974922</td>\n",
       "      <td>2001.322658</td>\n",
       "      <td>1.755104e+07</td>\n",
       "      <td>5.136436e+07</td>\n",
       "    </tr>\n",
       "    <tr>\n",
       "      <th>std</th>\n",
       "      <td>92130.136561</td>\n",
       "      <td>1.000185</td>\n",
       "      <td>3.091321e+07</td>\n",
       "      <td>1.170035e+08</td>\n",
       "      <td>31.381405</td>\n",
       "      <td>575.619058</td>\n",
       "      <td>0.935142</td>\n",
       "      <td>12.812941</td>\n",
       "      <td>3.430616e+07</td>\n",
       "      <td>1.446325e+08</td>\n",
       "    </tr>\n",
       "    <tr>\n",
       "      <th>min</th>\n",
       "      <td>5.000000</td>\n",
       "      <td>0.000065</td>\n",
       "      <td>0.000000e+00</td>\n",
       "      <td>0.000000e+00</td>\n",
       "      <td>0.000000</td>\n",
       "      <td>10.000000</td>\n",
       "      <td>1.500000</td>\n",
       "      <td>1960.000000</td>\n",
       "      <td>0.000000e+00</td>\n",
       "      <td>0.000000e+00</td>\n",
       "    </tr>\n",
       "    <tr>\n",
       "      <th>25%</th>\n",
       "      <td>10596.250000</td>\n",
       "      <td>0.207583</td>\n",
       "      <td>0.000000e+00</td>\n",
       "      <td>0.000000e+00</td>\n",
       "      <td>90.000000</td>\n",
       "      <td>17.000000</td>\n",
       "      <td>5.400000</td>\n",
       "      <td>1995.000000</td>\n",
       "      <td>0.000000e+00</td>\n",
       "      <td>0.000000e+00</td>\n",
       "    </tr>\n",
       "    <tr>\n",
       "      <th>50%</th>\n",
       "      <td>20669.000000</td>\n",
       "      <td>0.383856</td>\n",
       "      <td>0.000000e+00</td>\n",
       "      <td>0.000000e+00</td>\n",
       "      <td>99.000000</td>\n",
       "      <td>38.000000</td>\n",
       "      <td>6.000000</td>\n",
       "      <td>2006.000000</td>\n",
       "      <td>0.000000e+00</td>\n",
       "      <td>0.000000e+00</td>\n",
       "    </tr>\n",
       "    <tr>\n",
       "      <th>75%</th>\n",
       "      <td>75610.000000</td>\n",
       "      <td>0.713817</td>\n",
       "      <td>1.500000e+07</td>\n",
       "      <td>2.400000e+07</td>\n",
       "      <td>111.000000</td>\n",
       "      <td>145.750000</td>\n",
       "      <td>6.600000</td>\n",
       "      <td>2011.000000</td>\n",
       "      <td>2.085325e+07</td>\n",
       "      <td>3.369710e+07</td>\n",
       "    </tr>\n",
       "    <tr>\n",
       "      <th>max</th>\n",
       "      <td>417859.000000</td>\n",
       "      <td>32.985763</td>\n",
       "      <td>4.250000e+08</td>\n",
       "      <td>2.781506e+09</td>\n",
       "      <td>900.000000</td>\n",
       "      <td>9767.000000</td>\n",
       "      <td>9.200000</td>\n",
       "      <td>2015.000000</td>\n",
       "      <td>4.250000e+08</td>\n",
       "      <td>2.827124e+09</td>\n",
       "    </tr>\n",
       "  </tbody>\n",
       "</table>\n",
       "</div>"
      ],
      "text/plain": [
       "                  id    popularity        budget       revenue       runtime  \\\n",
       "count   10866.000000  10866.000000  1.086600e+04  1.086600e+04  10866.000000   \n",
       "mean    66064.177434      0.646441  1.462570e+07  3.982332e+07    102.070863   \n",
       "std     92130.136561      1.000185  3.091321e+07  1.170035e+08     31.381405   \n",
       "min         5.000000      0.000065  0.000000e+00  0.000000e+00      0.000000   \n",
       "25%     10596.250000      0.207583  0.000000e+00  0.000000e+00     90.000000   \n",
       "50%     20669.000000      0.383856  0.000000e+00  0.000000e+00     99.000000   \n",
       "75%     75610.000000      0.713817  1.500000e+07  2.400000e+07    111.000000   \n",
       "max    417859.000000     32.985763  4.250000e+08  2.781506e+09    900.000000   \n",
       "\n",
       "         vote_count  vote_average  release_year    budget_adj   revenue_adj  \n",
       "count  10866.000000  10866.000000  10866.000000  1.086600e+04  1.086600e+04  \n",
       "mean     217.389748      5.974922   2001.322658  1.755104e+07  5.136436e+07  \n",
       "std      575.619058      0.935142     12.812941  3.430616e+07  1.446325e+08  \n",
       "min       10.000000      1.500000   1960.000000  0.000000e+00  0.000000e+00  \n",
       "25%       17.000000      5.400000   1995.000000  0.000000e+00  0.000000e+00  \n",
       "50%       38.000000      6.000000   2006.000000  0.000000e+00  0.000000e+00  \n",
       "75%      145.750000      6.600000   2011.000000  2.085325e+07  3.369710e+07  \n",
       "max     9767.000000      9.200000   2015.000000  4.250000e+08  2.827124e+09  "
      ]
     },
     "execution_count": 6,
     "metadata": {},
     "output_type": "execute_result"
    }
   ],
   "source": [
    "movies_df.describe()"
   ]
  },
  {
   "cell_type": "markdown",
   "metadata": {},
   "source": [
    "From the above summary statistics we note that:\n",
    "- ***popularity, runtime, and vote_count*** have outliers because their maximum values far outpass their interquartile ranges.\n",
    "- the record is for 55 year duration (1960-2015)\n",
    "- more than 50% of ***budget, revenue, budget_adj and revenue_adj*** contain zero values. "
   ]
  },
  {
   "cell_type": "markdown",
   "metadata": {},
   "source": [
    "\n",
    "### Data Cleaning\n",
    "In this section, the data will be cleaned prior to analysis. Thus:\n",
    "- as noted above the features: ***imdb_id, cast, homepage, director, tagline, keywords, overview, genres, and production_companies*** have missing values. However, the missing values are not going to be imputed because they are not in our features of interest. \n",
    "- The outliers will be left intact because they are possible values. \n",
    "- The features ***revenue_adj and vote_average*** will be renamed to more readable features\n",
    "- a function that will drop rows equal to some certain values will be defined for code reusability\n",
    "- zero revenue and budget are not common values but it may seem irrational to replace these values with *mean, median or mode*. Thus, all records with the value of zero in ***revenue_adj*** , which is our target feature, will be dropped using the function mentioned above.\n"
   ]
  },
  {
   "cell_type": "markdown",
   "metadata": {},
   "source": [
    "**Renaming the features revenue_adj and vote_average**"
   ]
  },
  {
   "cell_type": "code",
   "execution_count": 7,
   "metadata": {},
   "outputs": [],
   "source": [
    "# renaming columns\n",
    "movies_df = movies_df.rename(columns = {'vote_average' : 'average vote', 'revenue_adj' : 'adjusted revenue'})"
   ]
  },
  {
   "cell_type": "markdown",
   "metadata": {},
   "source": [
    "**Defining the rows drop function**"
   ]
  },
  {
   "cell_type": "code",
   "execution_count": 9,
   "metadata": {},
   "outputs": [],
   "source": [
    "def drop_rows(df, column, value):\n",
    "    '''\n",
    "    The function takes a dataframe object and drops rows equal to a certain value in a certain column.\n",
    "    \n",
    "    Arguments\n",
    "    df: dataframe\n",
    "    column: it is of type string, it is the name of the column to apply the filter\n",
    "    value: it is of type float and it refers to the value in the rows to be dropped\n",
    "    \n",
    "    returns a dataframe without the dropped rows\n",
    "    '''\n",
    "    indices = df[df[column] == value].index            # generating the indices of the rows to be dropped\n",
    "    return df.drop(indices, inplace=True)          # dropping the rows"
   ]
  },
  {
   "cell_type": "markdown",
   "metadata": {},
   "source": [
    "**Dropping the adjusted revenue zero valued rows**"
   ]
  },
  {
   "cell_type": "code",
   "execution_count": 10,
   "metadata": {},
   "outputs": [],
   "source": [
    "drop_rows(movies_df,'adjusted revenue',0)"
   ]
  },
  {
   "cell_type": "code",
   "execution_count": 11,
   "metadata": {},
   "outputs": [
    {
     "data": {
      "text/plain": [
       "(4850, 21)"
      ]
     },
     "execution_count": 11,
     "metadata": {},
     "output_type": "execute_result"
    }
   ],
   "source": [
    "movies_df.shape"
   ]
  },
  {
   "cell_type": "markdown",
   "metadata": {},
   "source": [
    "We are now left with 4850 records which accounts for 44% of the original dataset."
   ]
  },
  {
   "cell_type": "markdown",
   "metadata": {},
   "source": [
    "<a id='eda'></a>\n",
    "## Exploratory Data Analysis\n",
    "In this section analyses of the features: ***popularity, runtime, vote_count, relaese_year*** will be carried out with respect to the target variable, ***revenue_adj*** to explore the relationships between them."
   ]
  },
  {
   "cell_type": "markdown",
   "metadata": {
    "collapsed": true
   },
   "source": [
    "### Question 1: What is the relationship between popularity, runtime, vote_average and revenue_adj?\n",
    "To answer this question, let's define a function that will plot the graphical distributions of these features."
   ]
  },
  {
   "cell_type": "code",
   "execution_count": 12,
   "metadata": {},
   "outputs": [],
   "source": [
    "def hist_plots(df, feature, ylabel):\n",
    "    '''\n",
    "    Parameters\n",
    "    df: dataframe\n",
    "    feature: the string name of the feature whose distribution is to be plotted\n",
    "    ylabel: a string name of the horizontal axis\n",
    "    \n",
    "    Returns a plot for the distribution of the feature\n",
    "    '''\n",
    "    proper_feature = feature.capitalize() # capitalizes the feature name\n",
    "    plt.xlabel(proper_feature)\n",
    "    plt.ylabel(ylabel)\n",
    "    title = proper_feature + \" Distribution\"  # crafting the title\n",
    "    plt.title(title);\n",
    "    return df[feature].hist(grid=False)"
   ]
  },
  {
   "cell_type": "markdown",
   "metadata": {},
   "source": [
    "Below are the histograms of the features of interest."
   ]
  },
  {
   "cell_type": "code",
   "execution_count": 13,
   "metadata": {},
   "outputs": [
    {
     "data": {
      "image/png": "[encoded data removed]",
      "text/plain": [
       "<Figure size 432x288 with 1 Axes>"
      ]
     },
     "metadata": {
      "needs_background": "light"
     },
     "output_type": "display_data"
    }
   ],
   "source": [
    "# popularity distribution\n",
    "hist_plots(movies_df, \"popularity\", \"Frequency\");"
   ]
  },
  {
   "cell_type": "code",
   "execution_count": 14,
   "metadata": {},
   "outputs": [
    {
     "data": {
      "image/png": "[encoded data removed]",
      "text/plain": [
       "<Figure size 432x288 with 1 Axes>"
      ]
     },
     "metadata": {
      "needs_background": "light"
     },
     "output_type": "display_data"
    }
   ],
   "source": [
    "# runtime distribution\n",
    "hist_plots(movies_df, \"runtime\", \"Frequency\");"
   ]
  },
  {
   "cell_type": "code",
   "execution_count": 15,
   "metadata": {},
   "outputs": [
    {
     "data": {
      "image/png": "[encoded data removed]",
      "text/plain": [
       "<Figure size 432x288 with 1 Axes>"
      ]
     },
     "metadata": {
      "needs_background": "light"
     },
     "output_type": "display_data"
    }
   ],
   "source": [
    "# average vote distribution\n",
    "hist_plots(movies_df, \"average vote\", \"Frequency\");"
   ]
  },
  {
   "cell_type": "code",
   "execution_count": 16,
   "metadata": {},
   "outputs": [
    {
     "data": {
      "image/png": "[encoded data removed]",
      "text/plain": [
       "<Figure size 432x288 with 1 Axes>"
      ]
     },
     "metadata": {
      "needs_background": "light"
     },
     "output_type": "display_data"
    }
   ],
   "source": [
    "hist_plots(movies_df, \"adjusted revenue\", \"Frequency\");"
   ]
  },
  {
   "cell_type": "markdown",
   "metadata": {},
   "source": [
    "From the above histograms, the feature ***popularity and adjusted revenue*** are left skwed. This reinforces our earlier discovery of outliers in these features. However, the ***runtime and average vote*** are approximately normally distributed as expected.\n",
    "\n",
    "**Now let's evaluate the correlations between variables and also plot the scatter plots for the variables of interest.**"
   ]
  },
  {
   "cell_type": "code",
   "execution_count": 17,
   "metadata": {},
   "outputs": [
    {
     "data": {
      "text/html": [
       "<div>\n",
       "<style scoped>\n",
       "    .dataframe tbody tr th:only-of-type {\n",
       "        vertical-align: middle;\n",
       "    }\n",
       "\n",
       "    .dataframe tbody tr th {\n",
       "        vertical-align: top;\n",
       "    }\n",
       "\n",
       "    .dataframe thead th {\n",
       "        text-align: right;\n",
       "    }\n",
       "</style>\n",
       "<table border=\"1\" class=\"dataframe\">\n",
       "  <thead>\n",
       "    <tr style=\"text-align: right;\">\n",
       "      <th></th>\n",
       "      <th>id</th>\n",
       "      <th>popularity</th>\n",
       "      <th>budget</th>\n",
       "      <th>revenue</th>\n",
       "      <th>runtime</th>\n",
       "      <th>vote_count</th>\n",
       "      <th>average vote</th>\n",
       "      <th>release_year</th>\n",
       "      <th>budget_adj</th>\n",
       "      <th>adjusted revenue</th>\n",
       "    </tr>\n",
       "  </thead>\n",
       "  <tbody>\n",
       "    <tr>\n",
       "      <th>id</th>\n",
       "      <td>1.000000</td>\n",
       "      <td>0.140275</td>\n",
       "      <td>-0.068388</td>\n",
       "      <td>-0.040843</td>\n",
       "      <td>-0.031101</td>\n",
       "      <td>0.069930</td>\n",
       "      <td>0.007712</td>\n",
       "      <td>0.506683</td>\n",
       "      <td>-0.145813</td>\n",
       "      <td>-0.115445</td>\n",
       "    </tr>\n",
       "    <tr>\n",
       "      <th>popularity</th>\n",
       "      <td>0.140275</td>\n",
       "      <td>1.000000</td>\n",
       "      <td>0.481101</td>\n",
       "      <td>0.629316</td>\n",
       "      <td>0.201249</td>\n",
       "      <td>0.788298</td>\n",
       "      <td>0.289021</td>\n",
       "      <td>0.170210</td>\n",
       "      <td>0.440051</td>\n",
       "      <td>0.561760</td>\n",
       "    </tr>\n",
       "    <tr>\n",
       "      <th>budget</th>\n",
       "      <td>-0.068388</td>\n",
       "      <td>0.481101</td>\n",
       "      <td>1.000000</td>\n",
       "      <td>0.703986</td>\n",
       "      <td>0.247158</td>\n",
       "      <td>0.585855</td>\n",
       "      <td>0.037417</td>\n",
       "      <td>0.237927</td>\n",
       "      <td>0.964006</td>\n",
       "      <td>0.560626</td>\n",
       "    </tr>\n",
       "    <tr>\n",
       "      <th>revenue</th>\n",
       "      <td>-0.040843</td>\n",
       "      <td>0.629316</td>\n",
       "      <td>0.703986</td>\n",
       "      <td>1.000000</td>\n",
       "      <td>0.237811</td>\n",
       "      <td>0.764122</td>\n",
       "      <td>0.206958</td>\n",
       "      <td>0.121289</td>\n",
       "      <td>0.674327</td>\n",
       "      <td>0.905011</td>\n",
       "    </tr>\n",
       "    <tr>\n",
       "      <th>runtime</th>\n",
       "      <td>-0.031101</td>\n",
       "      <td>0.201249</td>\n",
       "      <td>0.247158</td>\n",
       "      <td>0.237811</td>\n",
       "      <td>1.000000</td>\n",
       "      <td>0.252367</td>\n",
       "      <td>0.308205</td>\n",
       "      <td>-0.099556</td>\n",
       "      <td>0.304123</td>\n",
       "      <td>0.263979</td>\n",
       "    </tr>\n",
       "    <tr>\n",
       "      <th>vote_count</th>\n",
       "      <td>0.069930</td>\n",
       "      <td>0.788298</td>\n",
       "      <td>0.585855</td>\n",
       "      <td>0.764122</td>\n",
       "      <td>0.252367</td>\n",
       "      <td>1.000000</td>\n",
       "      <td>0.351330</td>\n",
       "      <td>0.196756</td>\n",
       "      <td>0.533281</td>\n",
       "      <td>0.666509</td>\n",
       "    </tr>\n",
       "    <tr>\n",
       "      <th>average vote</th>\n",
       "      <td>0.007712</td>\n",
       "      <td>0.289021</td>\n",
       "      <td>0.037417</td>\n",
       "      <td>0.206958</td>\n",
       "      <td>0.308205</td>\n",
       "      <td>0.351330</td>\n",
       "      <td>1.000000</td>\n",
       "      <td>-0.095035</td>\n",
       "      <td>0.049115</td>\n",
       "      <td>0.242429</td>\n",
       "    </tr>\n",
       "    <tr>\n",
       "      <th>release_year</th>\n",
       "      <td>0.506683</td>\n",
       "      <td>0.170210</td>\n",
       "      <td>0.237927</td>\n",
       "      <td>0.121289</td>\n",
       "      <td>-0.099556</td>\n",
       "      <td>0.196756</td>\n",
       "      <td>-0.095035</td>\n",
       "      <td>1.000000</td>\n",
       "      <td>0.083282</td>\n",
       "      <td>-0.099530</td>\n",
       "    </tr>\n",
       "    <tr>\n",
       "      <th>budget_adj</th>\n",
       "      <td>-0.145813</td>\n",
       "      <td>0.440051</td>\n",
       "      <td>0.964006</td>\n",
       "      <td>0.674327</td>\n",
       "      <td>0.304123</td>\n",
       "      <td>0.533281</td>\n",
       "      <td>0.049115</td>\n",
       "      <td>0.083282</td>\n",
       "      <td>1.000000</td>\n",
       "      <td>0.593273</td>\n",
       "    </tr>\n",
       "    <tr>\n",
       "      <th>adjusted revenue</th>\n",
       "      <td>-0.115445</td>\n",
       "      <td>0.561760</td>\n",
       "      <td>0.560626</td>\n",
       "      <td>0.905011</td>\n",
       "      <td>0.263979</td>\n",
       "      <td>0.666509</td>\n",
       "      <td>0.242429</td>\n",
       "      <td>-0.099530</td>\n",
       "      <td>0.593273</td>\n",
       "      <td>1.000000</td>\n",
       "    </tr>\n",
       "  </tbody>\n",
       "</table>\n",
       "</div>"
      ],
      "text/plain": [
       "                        id  popularity    budget   revenue   runtime  \\\n",
       "id                1.000000    0.140275 -0.068388 -0.040843 -0.031101   \n",
       "popularity        0.140275    1.000000  0.481101  0.629316  0.201249   \n",
       "budget           -0.068388    0.481101  1.000000  0.703986  0.247158   \n",
       "revenue          -0.040843    0.629316  0.703986  1.000000  0.237811   \n",
       "runtime          -0.031101    0.201249  0.247158  0.237811  1.000000   \n",
       "vote_count        0.069930    0.788298  0.585855  0.764122  0.252367   \n",
       "average vote      0.007712    0.289021  0.037417  0.206958  0.308205   \n",
       "release_year      0.506683    0.170210  0.237927  0.121289 -0.099556   \n",
       "budget_adj       -0.145813    0.440051  0.964006  0.674327  0.304123   \n",
       "adjusted revenue -0.115445    0.561760  0.560626  0.905011  0.263979   \n",
       "\n",
       "                  vote_count  average vote  release_year  budget_adj  \\\n",
       "id                  0.069930      0.007712      0.506683   -0.145813   \n",
       "popularity          0.788298      0.289021      0.170210    0.440051   \n",
       "budget              0.585855      0.037417      0.237927    0.964006   \n",
       "revenue             0.764122      0.206958      0.121289    0.674327   \n",
       "runtime             0.252367      0.308205     -0.099556    0.304123   \n",
       "vote_count          1.000000      0.351330      0.196756    0.533281   \n",
       "average vote        0.351330      1.000000     -0.095035    0.049115   \n",
       "release_year        0.196756     -0.095035      1.000000    0.083282   \n",
       "budget_adj          0.533281      0.049115      0.083282    1.000000   \n",
       "adjusted revenue    0.666509      0.242429     -0.099530    0.593273   \n",
       "\n",
       "                  adjusted revenue  \n",
       "id                       -0.115445  \n",
       "popularity                0.561760  \n",
       "budget                    0.560626  \n",
       "revenue                   0.905011  \n",
       "runtime                   0.263979  \n",
       "vote_count                0.666509  \n",
       "average vote              0.242429  \n",
       "release_year             -0.099530  \n",
       "budget_adj                0.593273  \n",
       "adjusted revenue          1.000000  "
      ]
     },
     "execution_count": 17,
     "metadata": {},
     "output_type": "execute_result"
    }
   ],
   "source": [
    "# getting the correlation coefficients of the features\n",
    "movies_df.corr()"
   ]
  },
  {
   "cell_type": "code",
   "execution_count": 19,
   "metadata": {},
   "outputs": [
    {
     "data": {
      "image/png": "[encoded data removed]",
      "text/plain": [
       "<Figure size 720x1440 with 3 Axes>"
      ]
     },
     "metadata": {
      "needs_background": "light"
     },
     "output_type": "display_data"
    }
   ],
   "source": [
    "# plotting the scatter plots for popularity, runtime, average votes against revenue adjusted\n",
    "\n",
    "fig, ax = plt.subplots(3, figsize=(10, 20))\n",
    "ax[0].scatter(x = movies_df['popularity'], y = movies_df['adjusted revenue']/1e9)\n",
    "ax[0].set_xlabel(\"Popularity\")\n",
    "ax[0].set_ylabel(\"Revenue in billion USD\")\n",
    "ax[0].set_title('Revenue by Popularity')\n",
    "\n",
    "ax[1].scatter(x = movies_df['runtime'], y = movies_df['adjusted revenue']/1e9)\n",
    "ax[1].set_xlabel(\"Runtime\")\n",
    "ax[1].set_ylabel(\"Revenue in billion USD\")\n",
    "ax[1].set_title('Revenue by Runtime')\n",
    "\n",
    "ax[2].scatter(x = movies_df['average vote'], y = movies_df['adjusted revenue']/1e9)\n",
    "ax[2].set_xlabel(\"Average Votes\")\n",
    "ax[2].set_ylabel(\"Revenue in billion USD\")\n",
    "ax[2].set_title('Revenue by Average Votes')\n",
    "\n",
    "plt.show()"
   ]
  },
  {
   "cell_type": "markdown",
   "metadata": {},
   "source": [
    "From the correlation coefficents and scatter plots above, we can see that ***runtime and average votes*** have weak postive correlations with the ***adjusted revenue***. While there is moderate positive correlation between ***popularity*** and the ***adjusted revenue***."
   ]
  },
  {
   "cell_type": "markdown",
   "metadata": {},
   "source": [
    "### Question 2: What is the annual revenue trend of the movie industry?\n",
    "To answer this there is a need to evaluate annual revenues and plotting the results in a time series chart. This will showcase the revenue trend over time."
   ]
  },
  {
   "cell_type": "code",
   "execution_count": 20,
   "metadata": {},
   "outputs": [],
   "source": [
    "# grouping and summing annual revenue of the industry\n",
    "annual_revenue = movies_df.groupby('release_year')['adjusted revenue'].sum()\n",
    "\n",
    "# changing the series to a dataframe\n",
    "annual_revenue_df = pd.DataFrame(annual_revenue)"
   ]
  },
  {
   "cell_type": "code",
   "execution_count": 22,
   "metadata": {},
   "outputs": [
    {
     "data": {
      "image/png": "[encoded data removed]",
      "text/plain": [
       "<Figure size 720x504 with 1 Axes>"
      ]
     },
     "metadata": {
      "needs_background": "light"
     },
     "output_type": "display_data"
    }
   ],
   "source": [
    "# plotting the line chart\n",
    "\n",
    "plt.plot(annual_revenue_df/1e9, linewidth=3, color='red') # changing the scale to billion USD\n",
    "plt.title('Annual Revenue Growth')\n",
    "plt.xlabel('Release Year')\n",
    "plt.ylabel('Total Annual Revenue in Billion USD')\n",
    "plt.rcParams['figure.figsize'] = [10, 7]\n",
    "plt.rc('axes', titlesize=24)                 # fontsize of the title\n",
    "plt.rc('axes', labelsize=14)                 # fontsize of the x and y labels"
   ]
  },
  {
   "cell_type": "markdown",
   "metadata": {},
   "source": [
    "The above line chart shows an increasing annual revenue trend over the years."
   ]
  },
  {
   "cell_type": "markdown",
   "metadata": {},
   "source": [
    "<a id='conclusions'></a>\n",
    "## Conclusions\n",
    "The analyses reveal a significant correlation between popularity and annual revenue generation in the movie industry. The moderate positive correlation indicates that movies with higher popularity tend to generate higher revenue. This suggests that audience preferences and engagement play a crucial role in driving revenue.\n",
    "\n",
    "Furthermore, the line chart depicting the annual revenue trend illustrates the overall growth of the movie industry over time. While there may be occasional dips in revenue, the chart demonstrates a consistent upward trajectory. This indicates that despite temporary declines, the industry has experienced substantial growth, evolving into a lucrative market for investors.\n",
    "\n",
    "Notably, the data showcases a remarkable increase in revenue from 950 million USD in 1960 to an impressive 24 billion USD in 2015. This significant growth reinforces the notion that the movie industry holds immense potential for generating substantial returns on investment.\n",
    "\n",
    "Considering the positive correlation between popularity and revenue, coupled with the consistent growth observed in the industry over the years, it becomes evident that investing in the movie industry can be a promising opportunity. The data supports the notion that the movie industry offers a favorable environment for investment, making it an attractive choice for prospective investors seeking potential financial success.\n",
    "\n",
    "**Limitation**\n",
    "The aggregation of annual revenue of the industry is limited because a movie produced in a particular year may continue to generate revenue in the subsequent years and there are no metrics to update such data values."
   ]
  },
  {
   "cell_type": "code",
   "execution_count": null,
   "metadata": {},
   "outputs": [],
   "source": [
    "from subprocess import call\n",
    "call(['python', '-m', 'nbconvert', 'Investigate_a_Dataset.ipynb'])"
   ]
  },
  {
   "cell_type": "markdown",
   "metadata": {},
   "source": [
    "## References\n",
    "\n",
    "- <a href=\"https://docs.google.com/document/d/e/2PACX-1vTlVmknRRnfy_4eTrjw5hYGaiQim5ctr9naaRd4V9du2B5bxpd8FEH3KtDgp8qVekw7Cj1GLk1IXdZi/pub\n",
    "\">Investigate a Dataset</a>\n",
    "\n",
    "- <a href=\"https://www.themoviedb.org/about\">The Movie Database</a>\n",
    "\n",
    "- <a href=\"https://dictionary.cambridge.org/dictionary/english/cast#:~:text=cast%20noun%20%28ACTORS%29%20B2%20%5B%20C%2C%20%2B%20sing%2Fpl,actors%20who%20were%20not%20playing%20the%20main%20parts%29. \">Cambridge Dictionary</a>\n",
    "\n",
    "- <a href=\"https://www.merriam-webster.com/dictionary/running%20time#:~:text=Definition%20of%20running%20time%20%3A%20the%20duration%20of,recording%20Examples%20of%20running%20time%20in%20a%20Sentence\n",
    "\">Merriam Webster Dictionary</a>\n",
    "- <a href=\"https://www.studiobinder.com/blog/movie-genres-list/\">Studio Binder, Ultimate Guide to Movie Genres</a>\n",
    "\n",
    "- <a href=\"https://www.investopedia.com/articles/investing/091615/movie-vs-tv-industry-which-most-profitable.asp\">Investopedia, Movie vs. TV Industry: Which Is More Profitable?</a>\n",
    "\n",
    " \n",
    "\n",
    "\n",
    "    "
   ]
  }
 ],
 "metadata": {
  "kernelspec": {
   "display_name": "Python 3 (ipykernel)",
   "language": "python",
   "name": "python3"
  },
  "language_info": {
   "codemirror_mode": {
    "name": "ipython",
    "version": 3
   },
   "file_extension": ".py",
   "mimetype": "text/x-python",
   "name": "python",
   "nbconvert_exporter": "python",
   "pygments_lexer": "ipython3",
   "version": "3.9.7"
  }
 },
 "nbformat": 4,
 "nbformat_minor": 2
}
